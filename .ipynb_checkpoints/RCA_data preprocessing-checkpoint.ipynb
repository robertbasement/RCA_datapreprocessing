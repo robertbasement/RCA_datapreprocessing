{
 "cells": [
  {
   "cell_type": "code",
   "execution_count": 1,
   "metadata": {},
   "outputs": [
    {
     "data": {
      "text/plain": [
       "54"
      ]
     },
     "execution_count": 1,
     "metadata": {},
     "output_type": "execute_result"
    }
   ],
   "source": [
    "from os import listdir\n",
    "import pandas as pd \n",
    "\n",
    "data_path = '/Users/robert/git_RCA/drive-download-20211018T064401Z-001'\n",
    "files = [f for f in listdir(data_path)]\n",
    "len(files)"
   ]
  },
  {
   "cell_type": "markdown",
   "metadata": {},
   "source": [
    "# 一 : 從所有data中抓出 '國家名稱'&'產品代號'  "
   ]
  },
  {
   "cell_type": "code",
   "execution_count": 2,
   "metadata": {},
   "outputs": [
    {
     "data": {
      "text/plain": [
       "{'Australia',\n",
       " 'Brazil',\n",
       " 'Canada',\n",
       " 'China',\n",
       " 'France',\n",
       " 'Germany',\n",
       " 'Italy',\n",
       " 'Korea',\n",
       " 'Malaysia',\n",
       " 'Myanmar',\n",
       " 'NewZealand',\n",
       " 'Philippines',\n",
       " 'Russian',\n",
       " 'Singapore',\n",
       " 'Taiwan',\n",
       " 'UK',\n",
       " 'US',\n",
       " 'VietNam'}"
      ]
     },
     "execution_count": 2,
     "metadata": {},
     "output_type": "execute_result"
    }
   ],
   "source": [
    "#set只會保留unique value \n",
    "#note: 原始檔中 其中一個UK的K是小寫 我就直接修改檔名了 \n",
    "\n",
    "countries = set()\n",
    "for file_name in files: \n",
    "    countries.add(file_name.split('_')[0]) #將國家名字拆出來\n",
    "countries"
   ]
  },
  {
   "cell_type": "code",
   "execution_count": 3,
   "metadata": {},
   "outputs": [
    {
     "name": "stdout",
     "output_type": "stream",
     "text": [
      "總共國家數: 18\n"
     ]
    }
   ],
   "source": [
    "print(f'總共國家數: {len(countries)}')"
   ]
  },
  {
   "cell_type": "markdown",
   "metadata": {},
   "source": [
    "# 二: 先測試單一國家的計算 以台灣的data為例  \n"
   ]
  },
  {
   "cell_type": "code",
   "execution_count": 4,
   "metadata": {},
   "outputs": [
    {
     "name": "stdout",
     "output_type": "stream",
     "text": [
      "['Taiwan_importvalue22060010006.xlsx', 'Taiwan_importvalue220890.xlsx', 'Taiwan_importvalue220830.xlsx']\n",
      "['22060010006.xlsx', '220890.xlsx', '220830.xlsx']\n"
     ]
    }
   ],
   "source": [
    "#測試一下檔名&收尋方式 以taiwan為例\n",
    "country_list = [] #>>>找出檔名中有taiwan的檔案 並將其存在country_list中\n",
    "file_code = [] #>>>將檔名最後的編號取出來 方便最後儲存檔案用\n",
    "for file_name in files:\n",
    "    if 'Taiwan' in file_name:\n",
    "        country_list.append(file_name)\n",
    "        file_code.append(file_name.split('e')[-1])\n",
    "print(country_list)\n",
    "print(file_code)"
   ]
  },
  {
   "cell_type": "markdown",
   "metadata": {},
   "source": [
    "時間的長度為2012/1~2020/12  \n",
    "總共會有12*9 = 108個col"
   ]
  },
  {
   "cell_type": "code",
   "execution_count": 5,
   "metadata": {},
   "outputs": [],
   "source": [
    "#不能用index_col = 0，因為資料columns的排序並不一致，有時country在前、有時 hscode在前\n",
    "data_1 = pd.read_excel(data_path + '/' + country_list[0]).set_index('country')\n",
    "data_2 = pd.read_excel(data_path + '/' + country_list[1]).set_index('country')\n",
    "data_3 = pd.read_excel(data_path + '/' + country_list[2]).set_index('country')"
   ]
  },
  {
   "cell_type": "code",
   "execution_count": 6,
   "metadata": {},
   "outputs": [
    {
     "data": {
      "text/html": [
       "<div>\n",
       "<style scoped>\n",
       "    .dataframe tbody tr th:only-of-type {\n",
       "        vertical-align: middle;\n",
       "    }\n",
       "\n",
       "    .dataframe tbody tr th {\n",
       "        vertical-align: top;\n",
       "    }\n",
       "\n",
       "    .dataframe thead th {\n",
       "        text-align: right;\n",
       "    }\n",
       "</style>\n",
       "<table border=\"1\" class=\"dataframe\">\n",
       "  <thead>\n",
       "    <tr style=\"text-align: right;\">\n",
       "      <th></th>\n",
       "      <th>hscode</th>\n",
       "      <th>value201201</th>\n",
       "      <th>value201202</th>\n",
       "      <th>value201203</th>\n",
       "      <th>value201204</th>\n",
       "      <th>value201205</th>\n",
       "      <th>value201206</th>\n",
       "      <th>value201207</th>\n",
       "      <th>value201208</th>\n",
       "      <th>value201209</th>\n",
       "      <th>...</th>\n",
       "      <th>value202003</th>\n",
       "      <th>value202004</th>\n",
       "      <th>value202005</th>\n",
       "      <th>value202006</th>\n",
       "      <th>value202007</th>\n",
       "      <th>value202008</th>\n",
       "      <th>value202009</th>\n",
       "      <th>value202010</th>\n",
       "      <th>value202011</th>\n",
       "      <th>value202012</th>\n",
       "    </tr>\n",
       "    <tr>\n",
       "      <th>country</th>\n",
       "      <th></th>\n",
       "      <th></th>\n",
       "      <th></th>\n",
       "      <th></th>\n",
       "      <th></th>\n",
       "      <th></th>\n",
       "      <th></th>\n",
       "      <th></th>\n",
       "      <th></th>\n",
       "      <th></th>\n",
       "      <th></th>\n",
       "      <th></th>\n",
       "      <th></th>\n",
       "      <th></th>\n",
       "      <th></th>\n",
       "      <th></th>\n",
       "      <th></th>\n",
       "      <th></th>\n",
       "      <th></th>\n",
       "      <th></th>\n",
       "      <th></th>\n",
       "    </tr>\n",
       "  </thead>\n",
       "  <tbody>\n",
       "    <tr>\n",
       "      <th>China</th>\n",
       "      <td>22060010006</td>\n",
       "      <td>0</td>\n",
       "      <td>0</td>\n",
       "      <td>0</td>\n",
       "      <td>0</td>\n",
       "      <td>0</td>\n",
       "      <td>0</td>\n",
       "      <td>0</td>\n",
       "      <td>0</td>\n",
       "      <td>8</td>\n",
       "      <td>...</td>\n",
       "      <td>0</td>\n",
       "      <td>0</td>\n",
       "      <td>0</td>\n",
       "      <td>0</td>\n",
       "      <td>0</td>\n",
       "      <td>0</td>\n",
       "      <td>0</td>\n",
       "      <td>0</td>\n",
       "      <td>0</td>\n",
       "      <td>0</td>\n",
       "    </tr>\n",
       "    <tr>\n",
       "      <th>France</th>\n",
       "      <td>22060010006</td>\n",
       "      <td>0</td>\n",
       "      <td>0</td>\n",
       "      <td>0</td>\n",
       "      <td>0</td>\n",
       "      <td>0</td>\n",
       "      <td>0</td>\n",
       "      <td>0</td>\n",
       "      <td>0</td>\n",
       "      <td>0</td>\n",
       "      <td>...</td>\n",
       "      <td>0</td>\n",
       "      <td>0</td>\n",
       "      <td>0</td>\n",
       "      <td>0</td>\n",
       "      <td>0</td>\n",
       "      <td>0</td>\n",
       "      <td>0</td>\n",
       "      <td>0</td>\n",
       "      <td>0</td>\n",
       "      <td>0</td>\n",
       "    </tr>\n",
       "    <tr>\n",
       "      <th>Japan</th>\n",
       "      <td>22060010006</td>\n",
       "      <td>504</td>\n",
       "      <td>742</td>\n",
       "      <td>541</td>\n",
       "      <td>332</td>\n",
       "      <td>477</td>\n",
       "      <td>327</td>\n",
       "      <td>365</td>\n",
       "      <td>434</td>\n",
       "      <td>226</td>\n",
       "      <td>...</td>\n",
       "      <td>1513</td>\n",
       "      <td>534</td>\n",
       "      <td>378</td>\n",
       "      <td>901</td>\n",
       "      <td>925</td>\n",
       "      <td>795</td>\n",
       "      <td>1216</td>\n",
       "      <td>1019</td>\n",
       "      <td>1679</td>\n",
       "      <td>2369</td>\n",
       "    </tr>\n",
       "    <tr>\n",
       "      <th>Korea</th>\n",
       "      <td>22060010006</td>\n",
       "      <td>6</td>\n",
       "      <td>2</td>\n",
       "      <td>1</td>\n",
       "      <td>0</td>\n",
       "      <td>6</td>\n",
       "      <td>5</td>\n",
       "      <td>0</td>\n",
       "      <td>4</td>\n",
       "      <td>2</td>\n",
       "      <td>...</td>\n",
       "      <td>2</td>\n",
       "      <td>4</td>\n",
       "      <td>1</td>\n",
       "      <td>3</td>\n",
       "      <td>4</td>\n",
       "      <td>1</td>\n",
       "      <td>4</td>\n",
       "      <td>6</td>\n",
       "      <td>7</td>\n",
       "      <td>8</td>\n",
       "    </tr>\n",
       "    <tr>\n",
       "      <th>United States</th>\n",
       "      <td>22060010006</td>\n",
       "      <td>0</td>\n",
       "      <td>0</td>\n",
       "      <td>0</td>\n",
       "      <td>0</td>\n",
       "      <td>0</td>\n",
       "      <td>0</td>\n",
       "      <td>0</td>\n",
       "      <td>0</td>\n",
       "      <td>0</td>\n",
       "      <td>...</td>\n",
       "      <td>0</td>\n",
       "      <td>0</td>\n",
       "      <td>0</td>\n",
       "      <td>0</td>\n",
       "      <td>0</td>\n",
       "      <td>0</td>\n",
       "      <td>0</td>\n",
       "      <td>0</td>\n",
       "      <td>0</td>\n",
       "      <td>0</td>\n",
       "    </tr>\n",
       "  </tbody>\n",
       "</table>\n",
       "<p>5 rows × 109 columns</p>\n",
       "</div>"
      ],
      "text/plain": [
       "                    hscode  value201201  value201202  value201203  \\\n",
       "country                                                             \n",
       "China          22060010006            0            0            0   \n",
       "France         22060010006            0            0            0   \n",
       "Japan          22060010006          504          742          541   \n",
       "Korea          22060010006            6            2            1   \n",
       "United States  22060010006            0            0            0   \n",
       "\n",
       "               value201204  value201205  value201206  value201207  \\\n",
       "country                                                             \n",
       "China                    0            0            0            0   \n",
       "France                   0            0            0            0   \n",
       "Japan                  332          477          327          365   \n",
       "Korea                    0            6            5            0   \n",
       "United States            0            0            0            0   \n",
       "\n",
       "               value201208  value201209  ...  value202003  value202004  \\\n",
       "country                                  ...                             \n",
       "China                    0            8  ...            0            0   \n",
       "France                   0            0  ...            0            0   \n",
       "Japan                  434          226  ...         1513          534   \n",
       "Korea                    4            2  ...            2            4   \n",
       "United States            0            0  ...            0            0   \n",
       "\n",
       "               value202005  value202006  value202007  value202008  \\\n",
       "country                                                             \n",
       "China                    0            0            0            0   \n",
       "France                   0            0            0            0   \n",
       "Japan                  378          901          925          795   \n",
       "Korea                    1            3            4            1   \n",
       "United States            0            0            0            0   \n",
       "\n",
       "               value202009  value202010  value202011  value202012  \n",
       "country                                                            \n",
       "China                    0            0            0            0  \n",
       "France                   0            0            0            0  \n",
       "Japan                 1216         1019         1679         2369  \n",
       "Korea                    4            6            7            8  \n",
       "United States            0            0            0            0  \n",
       "\n",
       "[5 rows x 109 columns]"
      ]
     },
     "execution_count": 6,
     "metadata": {},
     "output_type": "execute_result"
    }
   ],
   "source": [
    "data_1"
   ]
  },
  {
   "cell_type": "code",
   "execution_count": 7,
   "metadata": {
    "scrolled": true
   },
   "outputs": [],
   "source": [
    "class RCA_calulator:\n",
    "    def __init__(self, data1, data2, data3, country_name):\n",
    "        #確認column 總共有108個 若col數量和108對不上時，報錯\n",
    "        assert len(data1.columns[1::]) == 108\n",
    "        assert len(data2.columns[1::]) == 108\n",
    "        assert len(data3.columns[1::]) == 108\n",
    "        \n",
    "        self.data1 = data1\n",
    "        self.data2 = data2\n",
    "        self.data3 = data3\n",
    "        self.data1_hs = data1['hscode'][0]\n",
    "        self.data2_hs = data2['hscode'][0]\n",
    "        self.data3_hs = data3['hscode'][0]\n",
    "        self.country_name = country_name\n",
    "        \n",
    "        '''分母的分母''' #sum>>每一個col垂直加總 最後再將三張表同月份的值加總\n",
    "        self.total_Denominator = (self.data1.sum() + self.data2.sum() + self.data3.sum())[1::]\n",
    "        \n",
    "        '''最後的分母'''  \n",
    "        self.child1 = self.data1.sum()[1::] / self.total_Denominator\n",
    "        self.child2 = self.data2.sum()[1::] / self.total_Denominator\n",
    "        self.child3 = self.data3.sum()[1::] / self.total_Denominator\n",
    "        \n",
    "        \n",
    "        '''分子的分母'''  #總表 全部3張表直接水平加總 若缺失的部分會自動是補0\n",
    "        self.all_molecular_of_Denominator = self.data1.add(self.data2.add(self.data3, fill_value=0), fill_value=0)\n",
    "        \n",
    "        '''最後的分子'''\n",
    "        self.final_m_1 = (self.data1/self.all_molecular_of_Denominator.loc[self.data1.index]).fillna(0)\n",
    "        self.final_m_2 = (self.data2/self.all_molecular_of_Denominator.loc[self.data2.index]).fillna(0)\n",
    "        self.final_m_3 = (self.data3/self.all_molecular_of_Denominator.loc[self.data3.index]).fillna(0)\n",
    "        \n",
    "        '''RCA'''\n",
    "        self.final_1 = (self.final_m_1 / self.child1).fillna(0)\n",
    "        self.final_2 = (self.final_m_2 / self.child2).fillna(0)\n",
    "        self.final_3 = (self.final_m_3 / self.child3).fillna(0)\n",
    "        \n",
    "        '''將hscode保留'''\n",
    "        self.final_1.loc[:,'hscode'] = self.data1_hs\n",
    "        self.final_2.loc[:,'hscode'] = self.data2_hs\n",
    "        self.final_3.loc[:,'hscode'] = self.data3_hs\n",
    "        \n",
    "    def save(self):\n",
    "        self.final_1.to_excel(f'/Users/robert/git_RCA/RCA_final/RCA_{self.country_name}{file_code[0]}')\n",
    "        self.final_2.to_excel(f'/Users/robert/git_RCA/RCA_final/RCA_{self.country_name}{file_code[1]}')\n",
    "        self.final_3.to_excel(f'/Users/robert/git_RCA/RCA_final/RCA_{self.country_name}{file_code[2]}')"
   ]
  },
  {
   "cell_type": "code",
   "execution_count": 8,
   "metadata": {},
   "outputs": [],
   "source": [
    "data = RCA_calulator(data_1,data_2,data_3,'Taiwan')"
   ]
  },
  {
   "cell_type": "markdown",
   "metadata": {},
   "source": [
    "# 檢視計算過程: 以taiwan第一個column 2012/01為例"
   ]
  },
  {
   "cell_type": "code",
   "execution_count": 9,
   "metadata": {},
   "outputs": [
    {
     "name": "stdout",
     "output_type": "stream",
     "text": [
      "value201201    27339\n",
      "value201202    25073\n",
      "value201203    24151\n",
      "value201204    21265\n",
      "value201205    18037\n",
      "               ...  \n",
      "value202008    39027\n",
      "value202009    61710\n",
      "value202010    57486\n",
      "value202011    58713\n",
      "value202012    61401\n",
      "Length: 108, dtype: int64\n"
     ]
    }
   ],
   "source": [
    "'''分母的分母'''\n",
    "print(data.total_Denominator)"
   ]
  },
  {
   "cell_type": "markdown",
   "metadata": {},
   "source": [
    "27339為Taiwan 3張表2012/01值的總和"
   ]
  },
  {
   "cell_type": "code",
   "execution_count": 10,
   "metadata": {},
   "outputs": [
    {
     "name": "stdout",
     "output_type": "stream",
     "text": [
      "value201201    0.018655\n",
      "value201202    0.029673\n",
      "value201203    0.022442\n",
      "value201204    0.015613\n",
      "value201205    0.026778\n",
      "                 ...   \n",
      "value202008    0.020396\n",
      "value202009    0.019770\n",
      "value202010    0.017830\n",
      "value202011    0.028716\n",
      "value202012    0.038713\n",
      "Length: 108, dtype: float64\n"
     ]
    }
   ],
   "source": [
    "'''最後的分母'''  \n",
    "#這邊的child1是對應data1的分母 \n",
    "#以2012/01來說的話 是第一個col (504+6)/27339 = 0.0186\n",
    "print(data.child1)"
   ]
  },
  {
   "cell_type": "code",
   "execution_count": 12,
   "metadata": {
    "scrolled": true
   },
   "outputs": [
    {
     "name": "stdout",
     "output_type": "stream",
     "text": [
      "country\n",
      "Australia                  0.0\n",
      "Austria                    0.0\n",
      "Belgium                    0.0\n",
      "Bhutan                     0.0\n",
      "Bulgaria                   0.0\n",
      "Canada                     3.0\n",
      "China                      0.0\n",
      "Cyprus                     0.0\n",
      "Czech Republic             0.0\n",
      "Denmark                    0.0\n",
      "Finland                    0.0\n",
      "France                     0.0\n",
      "Germany                    0.0\n",
      "Hungary                    0.0\n",
      "Iceland                    0.0\n",
      "India                      0.0\n",
      "Ireland                   31.0\n",
      "Israel                     0.0\n",
      "Italy                      0.0\n",
      "Japan                   1243.0\n",
      "Korea                     46.0\n",
      "Latvia                     0.0\n",
      "Lithuania                  0.0\n",
      "Malaysia                   0.0\n",
      "Mexico                     0.0\n",
      "Netherlands                0.0\n",
      "New Zealand                0.0\n",
      "Panama                     0.0\n",
      "Philippines                0.0\n",
      "Poland                     0.0\n",
      "Portugal                   0.0\n",
      "Singapore                  0.0\n",
      "Slovakia                   0.0\n",
      "South Africa               0.0\n",
      "Spain                      0.0\n",
      "Sweden                     0.0\n",
      "Switzerland                0.0\n",
      "Thailand                  21.0\n",
      "Trinidad and Tobago        0.0\n",
      "United Kingdom         25930.0\n",
      "United States             65.0\n",
      "Name: value201201, dtype: float64\n"
     ]
    }
   ],
   "source": [
    "'''分子的分母'''  #總表 全部3張表直接水平加總 若缺失的部分會自動是補0 ,為了版面只顯示2012/01\n",
    "print(data.all_molecular_of_Denominator['value201201'])"
   ]
  },
  {
   "cell_type": "code",
   "execution_count": 13,
   "metadata": {},
   "outputs": [
    {
     "data": {
      "text/plain": [
       "1243.0"
      ]
     },
     "execution_count": 13,
     "metadata": {},
     "output_type": "execute_result"
    }
   ],
   "source": [
    "#我們來觀察一下‘Japan‘的值好了 \n",
    "data.all_molecular_of_Denominator.loc['Japan','value201201']"
   ]
  },
  {
   "cell_type": "markdown",
   "metadata": {},
   "source": [
    "1243正好是三張表Japan對台灣出口的加總  \n",
    "分別是 504 + 73 + 666 = 1243. "
   ]
  },
  {
   "cell_type": "code",
   "execution_count": 14,
   "metadata": {},
   "outputs": [
    {
     "data": {
      "text/plain": [
       "country\n",
       "China            0.000000\n",
       "France           0.000000\n",
       "Japan            0.405471\n",
       "Korea            0.130435\n",
       "United States    0.000000\n",
       "Name: value201201, dtype: float64"
      ]
     },
     "execution_count": 14,
     "metadata": {},
     "output_type": "execute_result"
    }
   ],
   "source": [
    "'''最後的分子'''\n",
    "#已data_1為例的話 就是504\n",
    "#而最後的分子為 504/1243 = 0.4054 我們來檢查看看\n",
    "data.final_m_1['value201201']"
   ]
  },
  {
   "cell_type": "code",
   "execution_count": 15,
   "metadata": {},
   "outputs": [
    {
     "data": {
      "text/plain": [
       "country\n",
       "China             0.000000\n",
       "France            0.000000\n",
       "Japan            21.735611\n",
       "Korea             6.992072\n",
       "United States     0.000000\n",
       "Name: value201201, dtype: float64"
      ]
     },
     "execution_count": 15,
     "metadata": {},
     "output_type": "execute_result"
    }
   ],
   "source": [
    "#最終data1的RCA Japan對Taiwan = 0.4054 / 0.0186 = 21.7956\n",
    "#些微的運算差為浮點位數問題\n",
    "data.final_1['value201201']"
   ]
  },
  {
   "cell_type": "markdown",
   "metadata": {},
   "source": [
    "# 三:跑全部18個國家"
   ]
  },
  {
   "cell_type": "code",
   "execution_count": 17,
   "metadata": {},
   "outputs": [],
   "source": [
    "#NewZealand_importdvalue220890 其column名稱hscode 多打了一個c 故程式會出錯 >> 已手動更正xlsx內容\n",
    "\n",
    "for country_name in list(countries):\n",
    "    #將某國的檔名&hscode提取\n",
    "    country_list = [] \n",
    "    file_code = [] \n",
    "    for file_name in files:\n",
    "        if country_name in file_name:\n",
    "            country_list.append(file_name)\n",
    "            file_code.append(file_name.split('e')[-1])\n",
    "    #計算RCA並儲存\n",
    "    data_1 = pd.read_excel(data_path + '/' + country_list[0]).set_index('country')\n",
    "    data_2 = pd.read_excel(data_path + '/' + country_list[1]).set_index('country')\n",
    "    data_3 = pd.read_excel(data_path + '/' + country_list[2]).set_index('country')\n",
    "    data = RCA_calulator(data_1,data_2,data_3,country_name)\n",
    "    data.save()"
   ]
  },
  {
   "cell_type": "markdown",
   "metadata": {},
   "source": [
    "# OVER"
   ]
  },
  {
   "cell_type": "code",
   "execution_count": null,
   "metadata": {},
   "outputs": [],
   "source": []
  }
 ],
 "metadata": {
  "kernelspec": {
   "display_name": "Python 3",
   "language": "python",
   "name": "python3"
  },
  "language_info": {
   "codemirror_mode": {
    "name": "ipython",
    "version": 3
   },
   "file_extension": ".py",
   "mimetype": "text/x-python",
   "name": "python",
   "nbconvert_exporter": "python",
   "pygments_lexer": "ipython3",
   "version": "3.8.3"
  }
 },
 "nbformat": 4,
 "nbformat_minor": 4
}
